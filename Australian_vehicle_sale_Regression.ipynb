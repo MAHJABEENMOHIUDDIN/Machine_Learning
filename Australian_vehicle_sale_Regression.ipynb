{
 "cells": [
  {
   "cell_type": "markdown",
   "metadata": {},
   "source": [
    "# Regression Model analysis on Vehicle sale"
   ]
  },
  {
   "cell_type": "markdown",
   "metadata": {},
   "source": [
    "## Import Libraries"
   ]
  },
  {
   "cell_type": "code",
   "execution_count": 46,
   "metadata": {},
   "outputs": [],
   "source": [
    "import pandas as pd\n",
    "import matplotlib.pyplot as plt\n",
    "import numpy as np\n",
    "from sklearn.metrics import mean_absolute_error as mae \n",
    "from sklearn.metrics import mean_squared_error as mse"
   ]
  },
  {
   "cell_type": "markdown",
   "metadata": {},
   "source": [
    "## Load Dataset"
   ]
  },
  {
   "cell_type": "code",
   "execution_count": 7,
   "metadata": {},
   "outputs": [
    {
     "data": {
      "text/html": [
       "<div>\n",
       "<style scoped>\n",
       "    .dataframe tbody tr th:only-of-type {\n",
       "        vertical-align: middle;\n",
       "    }\n",
       "\n",
       "    .dataframe tbody tr th {\n",
       "        vertical-align: top;\n",
       "    }\n",
       "\n",
       "    .dataframe thead th {\n",
       "        text-align: right;\n",
       "    }\n",
       "</style>\n",
       "<table border=\"1\" class=\"dataframe\">\n",
       "  <thead>\n",
       "    <tr style=\"text-align: right;\">\n",
       "      <th></th>\n",
       "      <th>Year</th>\n",
       "      <th>Sales</th>\n",
       "      <th>Growth</th>\n",
       "    </tr>\n",
       "  </thead>\n",
       "  <tbody>\n",
       "    <tr>\n",
       "      <th>0</th>\n",
       "      <td>2005</td>\n",
       "      <td>608804</td>\n",
       "      <td>NaN</td>\n",
       "    </tr>\n",
       "    <tr>\n",
       "      <th>1</th>\n",
       "      <td>2006</td>\n",
       "      <td>598394</td>\n",
       "      <td>-1.71</td>\n",
       "    </tr>\n",
       "    <tr>\n",
       "      <th>2</th>\n",
       "      <td>2007</td>\n",
       "      <td>637019</td>\n",
       "      <td>6.45</td>\n",
       "    </tr>\n",
       "    <tr>\n",
       "      <th>3</th>\n",
       "      <td>2008</td>\n",
       "      <td>596765</td>\n",
       "      <td>-6.32</td>\n",
       "    </tr>\n",
       "    <tr>\n",
       "      <th>4</th>\n",
       "      <td>2009</td>\n",
       "      <td>540562</td>\n",
       "      <td>-9.42</td>\n",
       "    </tr>\n",
       "    <tr>\n",
       "      <th>5</th>\n",
       "      <td>2010</td>\n",
       "      <td>592122</td>\n",
       "      <td>9.54</td>\n",
       "    </tr>\n",
       "    <tr>\n",
       "      <th>6</th>\n",
       "      <td>2011</td>\n",
       "      <td>559314</td>\n",
       "      <td>-5.54</td>\n",
       "    </tr>\n",
       "    <tr>\n",
       "      <th>7</th>\n",
       "      <td>2012</td>\n",
       "      <td>576855</td>\n",
       "      <td>3.14</td>\n",
       "    </tr>\n",
       "    <tr>\n",
       "      <th>8</th>\n",
       "      <td>2013</td>\n",
       "      <td>566454</td>\n",
       "      <td>-1.80</td>\n",
       "    </tr>\n",
       "    <tr>\n",
       "      <th>9</th>\n",
       "      <td>2014</td>\n",
       "      <td>531596</td>\n",
       "      <td>-6.15</td>\n",
       "    </tr>\n",
       "    <tr>\n",
       "      <th>10</th>\n",
       "      <td>2015</td>\n",
       "      <td>924154</td>\n",
       "      <td>73.85</td>\n",
       "    </tr>\n",
       "    <tr>\n",
       "      <th>11</th>\n",
       "      <td>2016</td>\n",
       "      <td>927274</td>\n",
       "      <td>0.34</td>\n",
       "    </tr>\n",
       "    <tr>\n",
       "      <th>12</th>\n",
       "      <td>2017</td>\n",
       "      <td>915658</td>\n",
       "      <td>-1.25</td>\n",
       "    </tr>\n",
       "    <tr>\n",
       "      <th>13</th>\n",
       "      <td>2018</td>\n",
       "      <td>873713</td>\n",
       "      <td>-4.58</td>\n",
       "    </tr>\n",
       "    <tr>\n",
       "      <th>14</th>\n",
       "      <td>2019</td>\n",
       "      <td>799263</td>\n",
       "      <td>-8.52</td>\n",
       "    </tr>\n",
       "    <tr>\n",
       "      <th>15</th>\n",
       "      <td>2020</td>\n",
       "      <td>676804</td>\n",
       "      <td>-15.32</td>\n",
       "    </tr>\n",
       "    <tr>\n",
       "      <th>16</th>\n",
       "      <td>2021</td>\n",
       "      <td>753256</td>\n",
       "      <td>11.30</td>\n",
       "    </tr>\n",
       "    <tr>\n",
       "      <th>17</th>\n",
       "      <td>2022</td>\n",
       "      <td>777688</td>\n",
       "      <td>3.24</td>\n",
       "    </tr>\n",
       "  </tbody>\n",
       "</table>\n",
       "</div>"
      ],
      "text/plain": [
       "    Year   Sales  Growth\n",
       "0   2005  608804     NaN\n",
       "1   2006  598394   -1.71\n",
       "2   2007  637019    6.45\n",
       "3   2008  596765   -6.32\n",
       "4   2009  540562   -9.42\n",
       "5   2010  592122    9.54\n",
       "6   2011  559314   -5.54\n",
       "7   2012  576855    3.14\n",
       "8   2013  566454   -1.80\n",
       "9   2014  531596   -6.15\n",
       "10  2015  924154   73.85\n",
       "11  2016  927274    0.34\n",
       "12  2017  915658   -1.25\n",
       "13  2018  873713   -4.58\n",
       "14  2019  799263   -8.52\n",
       "15  2020  676804  -15.32\n",
       "16  2021  753256   11.30\n",
       "17  2022  777688    3.24"
      ]
     },
     "execution_count": 7,
     "metadata": {},
     "output_type": "execute_result"
    }
   ],
   "source": [
    "sales_df = pd.read_csv(\"Australian_vehivle_sale.csv\")\n",
    "sales_df"
   ]
  },
  {
   "cell_type": "markdown",
   "metadata": {},
   "source": [
    "## Analyse the number of null values in the dataset"
   ]
  },
  {
   "cell_type": "code",
   "execution_count": 8,
   "metadata": {},
   "outputs": [
    {
     "data": {
      "text/plain": [
       "Year      0\n",
       "Sales     0\n",
       "Growth    1\n",
       "dtype: int64"
      ]
     },
     "execution_count": 8,
     "metadata": {},
     "output_type": "execute_result"
    }
   ],
   "source": [
    "sales_df.isnull().sum()"
   ]
  },
  {
   "cell_type": "markdown",
   "metadata": {},
   "source": [
    "## Data Cleaning Process:\n",
    "### The best practice of a Data Scienetist is before starting the data cleaning process, we need to make a copy of a dataframe, so that the changes made should not impact the original data.\n",
    "### I'm assigning the original data frame to a new data frame named as \"cleaned_veh_sales\"\n",
    "### As we have seen there is a null value in the growth column, so have to impute this null value based on the requirements. I'm imputing the null value with the median value of the column."
   ]
  },
  {
   "cell_type": "markdown",
   "metadata": {},
   "source": [
    "### Earlier the value at index 0 was null and now after imputing it with median tha value filled at index 0 is -1.71."
   ]
  },
  {
   "cell_type": "code",
   "execution_count": 37,
   "metadata": {},
   "outputs": [
    {
     "data": {
      "text/plain": [
       "0     -1.71\n",
       "1     -1.71\n",
       "2      6.45\n",
       "3     -6.32\n",
       "4     -9.42\n",
       "5      9.54\n",
       "6     -5.54\n",
       "7      3.14\n",
       "8     -1.80\n",
       "9     -6.15\n",
       "10    73.85\n",
       "11     0.34\n",
       "12    -1.25\n",
       "13    -4.58\n",
       "14    -8.52\n",
       "15   -15.32\n",
       "16    11.30\n",
       "17     3.24\n",
       "Name: Growth, dtype: float64"
      ]
     },
     "execution_count": 37,
     "metadata": {},
     "output_type": "execute_result"
    }
   ],
   "source": [
    "cleaned_veh_sales['Growth']"
   ]
  },
  {
   "cell_type": "markdown",
   "metadata": {},
   "source": [
    "### To get insights into the data and analyse the trend of data I'm using a bar chart here, and we can see that in 2015 there was the hightes growth in sales of vehicles."
   ]
  },
  {
   "cell_type": "code",
   "execution_count": 245,
   "metadata": {},
   "outputs": [
    {
     "data": {
      "text/plain": [
       "<BarContainer object of 18 artists>"
      ]
     },
     "execution_count": 245,
     "metadata": {},
     "output_type": "execute_result"
    },
    {
     "data": {
      "image/png": "[encoded data removed]",
      "text/plain": [
       "<Figure size 640x480 with 1 Axes>"
      ]
     },
     "metadata": {},
     "output_type": "display_data"
    }
   ],
   "source": [
    "x=cleaned_veh_sales['Year']\n",
    "y=cleaned_veh_sales['Growth']\n",
    "plt.xticks(rotation = 90)\n",
    "plt.title(\"Vehicle growth rate in each year\")\n",
    "\n",
    "plt.bar(x,y)"
   ]
  },
  {
   "cell_type": "markdown",
   "metadata": {},
   "source": [
    "### Now its time to split the target and features from the dataset. I'm considering sale's growth column as target and rest other two columns i.e Year and sales as features."
   ]
  },
  {
   "cell_type": "markdown",
   "metadata": {},
   "source": [
    "### The shape below shows that features are two dimensional data and where as target is 1 dimensional data."
   ]
  },
  {
   "cell_type": "code",
   "execution_count": 40,
   "metadata": {},
   "outputs": [
    {
     "name": "stdout",
     "output_type": "stream",
     "text": [
      "The shape of features are: (18, 2)\n",
      "The shape of target is: (18,)\n"
     ]
    }
   ],
   "source": [
    "print(\"The shape of features are:\",x.shape)\n",
    "print(\"The shape of target is:\", y.shape)"
   ]
  },
  {
   "cell_type": "markdown",
   "metadata": {},
   "source": [
    "### The next important step is to split the data into train, validation and test sets.\n",
    "### We train the data using the unseen data to let model learn and start predictions.\n",
    "### Then validation data set used for predictions to analyse whether the model has learned the data properly and this validation data is unseen data compared to trained data. If the model neither under fits and nor overfits then we move to the final step of testing the model using the test set.\n",
    "### Testing is not repeated, it is done only once at the end."
   ]
  },
  {
   "cell_type": "code",
   "execution_count": 41,
   "metadata": {},
   "outputs": [],
   "source": [
    "from sklearn.model_selection import train_test_split"
   ]
  },
  {
   "cell_type": "code",
   "execution_count": 51,
   "metadata": {},
   "outputs": [],
   "source": [
    "x_data, x_test, y_data, y_test = train_test_split(x,y, test_size=0.2, random_state= 1)"
   ]
  },
  {
   "cell_type": "markdown",
   "metadata": {},
   "source": [
    "### Scaling the data is crucial step and it should not be skipped. The reason is explained below:\n",
    "### Features converge faster when they are scaled. Without scaling, features with larger ranges can dominate the gradient, causing the optimization process to be inefficient.\n",
    "### Scaling ensures that all features contribute equally to the result. If features are on different scales, some features may dominate others, leading to skewed model performance."
   ]
  },
  {
   "cell_type": "code",
   "execution_count": 53,
   "metadata": {},
   "outputs": [],
   "source": [
    "from sklearn.preprocessing import StandardScaler"
   ]
  },
  {
   "cell_type": "code",
   "execution_count": 54,
   "metadata": {},
   "outputs": [],
   "source": [
    "scaler = StandardScaler()"
   ]
  },
  {
   "cell_type": "markdown",
   "metadata": {},
   "source": [
    "### To initialte the training process I'm importing the LinearRegression algorith from Scikit learn package."
   ]
  },
  {
   "cell_type": "code",
   "execution_count": 56,
   "metadata": {},
   "outputs": [],
   "source": [
    "from sklearn.linear_model import LinearRegression"
   ]
  },
  {
   "cell_type": "markdown",
   "metadata": {},
   "source": [
    "### Instantiating the class"
   ]
  },
  {
   "cell_type": "code",
   "execution_count": 58,
   "metadata": {},
   "outputs": [],
   "source": [
    "linear = LinearRegression()"
   ]
  },
  {
   "cell_type": "markdown",
   "metadata": {},
   "source": [
    "### Fitting the model on train data"
   ]
  },
  {
   "cell_type": "code",
   "execution_count": 59,
   "metadata": {},
   "outputs": [],
   "source": [
    "fit_train = linear.fit(x_train, y_train)"
   ]
  },
  {
   "cell_type": "markdown",
   "metadata": {},
   "source": [
    "### Performing prediction on train data"
   ]
  },
  {
   "cell_type": "code",
   "execution_count": 61,
   "metadata": {},
   "outputs": [
    {
     "name": "stdout",
     "output_type": "stream",
     "text": [
      "21.58006303281303\n",
      "17.43954953102921\n"
     ]
    }
   ],
   "source": [
    "print(mse(y_train, y_preds, squared = False))\n",
    "print(mae(y_train, y_preds))"
   ]
  },
  {
   "cell_type": "code",
   "execution_count": 62,
   "metadata": {},
   "outputs": [
    {
     "data": {
      "text/plain": [
       "6871.147125357372"
      ]
     },
     "execution_count": 62,
     "metadata": {},
     "output_type": "execute_result"
    }
   ],
   "source": [
    "linear.intercept_"
   ]
  },
  {
   "cell_type": "markdown",
   "metadata": {},
   "source": [
    "### Coefficient of determination (R2)\tInterpretation.\n",
    "####  1. 0 means the model does not predict the outcome.\n",
    "#### 2. 1 means\tthe model perfectly predicts the outcome.\n",
    "#### Between 0 and 1, the model partially predicts the outcome."
   ]
  },
  {
   "cell_type": "markdown",
   "metadata": {},
   "source": [
    "estimated slope coefficients value is"
   ]
  },
  {
   "cell_type": "code",
   "execution_count": 63,
   "metadata": {},
   "outputs": [
    {
     "data": {
      "text/plain": [
       "array([-3.45877242e+00,  1.35653013e-04])"
      ]
     },
     "execution_count": 63,
     "metadata": {},
     "output_type": "execute_result"
    }
   ],
   "source": [
    "linear.coef_"
   ]
  },
  {
   "cell_type": "markdown",
   "metadata": {},
   "source": [
    "### The obtained slope score of test set is -3.43"
   ]
  },
  {
   "cell_type": "code",
   "execution_count": 64,
   "metadata": {},
   "outputs": [
    {
     "data": {
      "text/plain": [
       "-3.431454113478564"
      ]
     },
     "execution_count": 64,
     "metadata": {},
     "output_type": "execute_result"
    }
   ],
   "source": [
    "linear.score(x_test,y_test)"
   ]
  },
  {
   "cell_type": "code",
   "execution_count": 65,
   "metadata": {},
   "outputs": [],
   "source": [
    "import altair as alt"
   ]
  },
  {
   "cell_type": "markdown",
   "metadata": {},
   "source": [
    "### The chart suggests that the model has not generalized properly, as the training data points are scattered significantly away from the predicted values."
   ]
  },
  {
   "attachments": {
    "vehicle_visualization1.png": {
     "image/png": "[encoded data removed]"
    }
   },
   "cell_type": "markdown",
   "metadata": {},
   "source": [
    "![vehicle_visualization1.png](attachment:vehicle_visualization1.png)"
   ]
  },
  {
   "cell_type": "code",
   "execution_count": 67,
   "metadata": {},
   "outputs": [],
   "source": [
    "preds_y_val = linear.predict(x_val)"
   ]
  },
  {
   "cell_type": "code",
   "execution_count": 68,
   "metadata": {},
   "outputs": [
    {
     "name": "stdout",
     "output_type": "stream",
     "text": [
      "18.857833931433717\n",
      "17.785192340259908\n"
     ]
    }
   ],
   "source": [
    "print(mse(y_val,preds_y_val, squared = False))\n",
    "print(mae(y_val,preds_y_val))"
   ]
  },
  {
   "cell_type": "markdown",
   "metadata": {},
   "source": [
    "### The model performed well on the training data but did not generalize effectively to the unseen validation data, indicating overfitting to the training set,resulting in poor performance on new, unseen data."
   ]
  },
  {
   "attachments": {
    "vehicle_visualization2.png": {
     "image/png": "[encoded data removed]"
    }
   },
   "cell_type": "markdown",
   "metadata": {},
   "source": [
    "![vehicle_visualization2.png](attachment:vehicle_visualization2.png)"
   ]
  },
  {
   "cell_type": "markdown",
   "metadata": {},
   "source": [
    "### Applying prediction on the test set, which is agian unseen data compared to train set data."
   ]
  },
  {
   "cell_type": "code",
   "execution_count": 70,
   "metadata": {},
   "outputs": [],
   "source": [
    "preds_y_test = linear.predict(x_test)"
   ]
  },
  {
   "cell_type": "code",
   "execution_count": 71,
   "metadata": {},
   "outputs": [
    {
     "name": "stdout",
     "output_type": "stream",
     "text": [
      "10.951734597265467\n",
      "10.009316299504725\n"
     ]
    }
   ],
   "source": [
    "print(mse(y_test,preds_y_test, squared = False))\n",
    "print(mae(y_test, preds_y_test))"
   ]
  },
  {
   "cell_type": "markdown",
   "metadata": {},
   "source": [
    "### The chart shows that the prediction outcomes indicate the model has not generalized well to the test data, suggesting that the model may be overfitting to the training data."
   ]
  },
  {
   "attachments": {
    "vehicle_visualization3.png": {
     "image/png": "[encoded data removed]"
    }
   },
   "cell_type": "markdown",
   "metadata": {},
   "source": [
    "![vehicle_visualization3.png](attachment:vehicle_visualization3.png)"
   ]
  },
  {
   "cell_type": "markdown",
   "metadata": {},
   "source": [
    "#### Comparing the mse and mae scores of train , validation and test sets\n",
    "##### Train set mse score: 21.58006303281303\n",
    "##### Train set mae score: 17.43954953102921\n",
    "##### Validation set mae score: 18.857833931433717\n",
    "##### Validation set mse score: 17.785192340259908\n",
    "##### Test set mae score: 10.951734597265467\n",
    "##### Test set mse score: 10.009316299504725\n",
    "\n",
    "### Result Analysis of score: Train set is overfitting the model.To over come this problem we need to make the new models by either tuning the hyper-parameters or else we need to test the model using the another algorithm\n"
   ]
  },
  {
   "cell_type": "markdown",
   "metadata": {},
   "source": [
    "# Model 2:\n",
    "### Trying another model with some hyper parameters"
   ]
  },
  {
   "cell_type": "code",
   "execution_count": 74,
   "metadata": {},
   "outputs": [],
   "source": [
    "forest_reg1= RandomForestRegressor( n_estimators = 100,criterion='squared_error', max_depth=2, min_samples_split=2, min_samples_leaf=1,random_state=42)"
   ]
  },
  {
   "cell_type": "code",
   "execution_count": 76,
   "metadata": {},
   "outputs": [],
   "source": [
    "y_forest_preds = forest_reg1.predict(x_train)"
   ]
  },
  {
   "cell_type": "code",
   "execution_count": 80,
   "metadata": {},
   "outputs": [
    {
     "name": "stdout",
     "output_type": "stream",
     "text": [
      "12.164610194914172\n",
      "9.418704374999994\n"
     ]
    }
   ],
   "source": [
    "print(mse(y_train,y_forest_preds, squared = False))\n",
    "print(mae(y_train, y_forest_preds))"
   ]
  },
  {
   "cell_type": "code",
   "execution_count": 81,
   "metadata": {},
   "outputs": [],
   "source": [
    "import altair as alt"
   ]
  },
  {
   "attachments": {
    "vehicle_visualization3.png": {
     "image/png": "[encoded data removed]"
    }
   },
   "cell_type": "markdown",
   "metadata": {},
   "source": [
    "![vehicle_visualization3.png](attachment:vehicle_visualization3.png)"
   ]
  },
  {
   "cell_type": "markdown",
   "metadata": {},
   "source": [
    "#### Validation test"
   ]
  },
  {
   "cell_type": "code",
   "execution_count": 83,
   "metadata": {},
   "outputs": [],
   "source": [
    "y_val_pred = forest_reg1.predict(x_val)"
   ]
  },
  {
   "cell_type": "code",
   "execution_count": 84,
   "metadata": {},
   "outputs": [
    {
     "name": "stdout",
     "output_type": "stream",
     "text": [
      "9.273152122335528\n",
      "7.7411988888888885\n"
     ]
    }
   ],
   "source": [
    "print(mse(y_val, y_val_pred, squared= False))\n",
    "print(mae(y_val, y_val_pred))"
   ]
  },
  {
   "attachments": {
    "vehicle_visualization5.png": {
     "image/png": "[encoded data removed]"
    }
   },
   "cell_type": "markdown",
   "metadata": {},
   "source": [
    "![vehicle_visualization5.png](attachment:vehicle_visualization5.png)"
   ]
  },
  {
   "cell_type": "code",
   "execution_count": 86,
   "metadata": {},
   "outputs": [],
   "source": [
    "y_test_pred = forest_reg1.predict(x_test)\n"
   ]
  },
  {
   "cell_type": "code",
   "execution_count": 87,
   "metadata": {},
   "outputs": [
    {
     "name": "stdout",
     "output_type": "stream",
     "text": [
      "8.782610139733439\n",
      "8.384720833333333\n"
     ]
    }
   ],
   "source": [
    "print(mse(y_test, y_test_pred, squared=False))\n",
    "print(mae(y_test, y_test_pred))"
   ]
  },
  {
   "attachments": {
    "vehicle_visualization6.png": {
     "image/png": "[encoded data removed]"
    }
   },
   "cell_type": "markdown",
   "metadata": {},
   "source": [
    "![vehicle_visualization6.png](attachment:vehicle_visualization6.png)"
   ]
  },
  {
   "cell_type": "markdown",
   "metadata": {},
   "source": [
    "### Results from Random Forest algorithm model\n",
    "##### Train set mse score: 12.164610194914172\n",
    "##### Train set mae score: 9.418704374999994\n",
    "##### Validation set mae score: 9.273152122335528\n",
    "##### Validation set mse score: 7.7411988888888885\n",
    "##### Test set mae score: 8.782610139733439\n",
    "##### Test set mse score: 8.384720833333333\n",
    "\n",
    "### Still model is overfitting, to make the perfectly generalized model, more training of models is required."
   ]
  }
 ],
 "metadata": {
  "kernelspec": {
   "display_name": "Python 3",
   "language": "python",
   "name": "python3"
  },
  "language_info": {
   "codemirror_mode": {
    "name": "ipython",
    "version": 3
   },
   "file_extension": ".py",
   "mimetype": "text/x-python",
   "name": "python",
   "nbconvert_exporter": "python",
   "pygments_lexer": "ipython3",
   "version": "3.9.13"
  },
  "orig_nbformat": 4
 },
 "nbformat": 4,
 "nbformat_minor": 2
}
